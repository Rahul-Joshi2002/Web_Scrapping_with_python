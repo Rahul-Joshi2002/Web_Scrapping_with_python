{
 "cells": [
  {
   "cell_type": "code",
   "execution_count": 1,
   "id": "62300a42",
   "metadata": {},
   "outputs": [],
   "source": [
    "import requests\n",
    "import pandas as pd\n",
    "from bs4 import BeautifulSoup"
   ]
  },
  {
   "cell_type": "code",
   "execution_count": 2,
   "id": "47c9b828",
   "metadata": {},
   "outputs": [],
   "source": [
    "url = \"https://www.espncricinfo.com/player/sachin-tendulkar-35320\"\n",
    "page = requests.get(url)\n",
    "htmlContent = page.content"
   ]
  },
  {
   "cell_type": "code",
   "execution_count": 3,
   "id": "e98dc7b4",
   "metadata": {},
   "outputs": [],
   "source": [
    "soup = BeautifulSoup(htmlContent, 'html.parser')"
   ]
  },
  {
   "cell_type": "code",
   "execution_count": 4,
   "id": "d5e21069",
   "metadata": {},
   "outputs": [],
   "source": [
    "grid = soup.find('div', class_= \"ds-grid\")"
   ]
  },
  {
   "cell_type": "code",
   "execution_count": 5,
   "id": "fa285c29",
   "metadata": {},
   "outputs": [],
   "source": [
    "a = grid.find_all('p')"
   ]
  },
  {
   "cell_type": "code",
   "execution_count": 6,
   "id": "26d146bb",
   "metadata": {},
   "outputs": [
    {
     "data": {
      "text/plain": [
       "['Full Name',\n",
       " 'Born',\n",
       " 'Age',\n",
       " 'Nicknames',\n",
       " 'Batting Style',\n",
       " 'Bowling Style',\n",
       " 'Playing Role',\n",
       " 'Height',\n",
       " 'Education',\n",
       " 'links',\n",
       " 'RELATIONS',\n",
       " ' (son)']"
      ]
     },
     "execution_count": 6,
     "metadata": {},
     "output_type": "execute_result"
    }
   ],
   "source": [
    "mat1 = []\n",
    "for item in a:\n",
    "    item = item.get_text().replace('\\n', '')\n",
    "    mat1.append(item)\n",
    "mat1"
   ]
  },
  {
   "cell_type": "code",
   "execution_count": 7,
   "id": "87c9374a",
   "metadata": {},
   "outputs": [],
   "source": [
    "b = grid.find_all('span')"
   ]
  },
  {
   "cell_type": "code",
   "execution_count": 8,
   "id": "7dfae6cc",
   "metadata": {},
   "outputs": [
    {
     "data": {
      "text/plain": [
       "['Sachin Ramesh Tendulkar',\n",
       " 'April 24, 1973, Bombay (now Mumbai), Maharashtra',\n",
       " '49y 37d',\n",
       " 'Tendlya, Little Master',\n",
       " 'Right hand Bat',\n",
       " 'Right arm Offbreak, Legbreak Googly',\n",
       " 'Top order Batter',\n",
       " '5ft 5in',\n",
       " 'Sharadashram Vidyamandir School',\n",
       " 'Twitter',\n",
       " 'Twitter',\n",
       " 'AS Tendulkar (son)']"
      ]
     },
     "execution_count": 8,
     "metadata": {},
     "output_type": "execute_result"
    }
   ],
   "source": [
    "mat2 = []\n",
    "i = 0\n",
    "for item in b:\n",
    "    if i == 12:\n",
    "        break;\n",
    "    item = item.get_text().replace('\\n', '')\n",
    "    mat2.append(item)\n",
    "    i = i + 1\n",
    "mat2"
   ]
  },
  {
   "cell_type": "code",
   "execution_count": 9,
   "id": "07a47d7b",
   "metadata": {},
   "outputs": [
    {
     "data": {
      "text/html": [
       "<div>\n",
       "<style scoped>\n",
       "    .dataframe tbody tr th:only-of-type {\n",
       "        vertical-align: middle;\n",
       "    }\n",
       "\n",
       "    .dataframe tbody tr th {\n",
       "        vertical-align: top;\n",
       "    }\n",
       "\n",
       "    .dataframe thead th {\n",
       "        text-align: right;\n",
       "    }\n",
       "</style>\n",
       "<table border=\"1\" class=\"dataframe\">\n",
       "  <thead>\n",
       "    <tr style=\"text-align: right;\">\n",
       "      <th></th>\n",
       "      <th>ATTRIBUTE</th>\n",
       "      <th>INFORMATION</th>\n",
       "    </tr>\n",
       "  </thead>\n",
       "  <tbody>\n",
       "    <tr>\n",
       "      <th>0</th>\n",
       "      <td>Full Name</td>\n",
       "      <td>Sachin Ramesh Tendulkar</td>\n",
       "    </tr>\n",
       "    <tr>\n",
       "      <th>1</th>\n",
       "      <td>Born</td>\n",
       "      <td>April 24, 1973, Bombay (now Mumbai), Maharashtra</td>\n",
       "    </tr>\n",
       "    <tr>\n",
       "      <th>2</th>\n",
       "      <td>Age</td>\n",
       "      <td>49y 37d</td>\n",
       "    </tr>\n",
       "    <tr>\n",
       "      <th>3</th>\n",
       "      <td>Nicknames</td>\n",
       "      <td>Tendlya, Little Master</td>\n",
       "    </tr>\n",
       "    <tr>\n",
       "      <th>4</th>\n",
       "      <td>Batting Style</td>\n",
       "      <td>Right hand Bat</td>\n",
       "    </tr>\n",
       "    <tr>\n",
       "      <th>5</th>\n",
       "      <td>Bowling Style</td>\n",
       "      <td>Right arm Offbreak, Legbreak Googly</td>\n",
       "    </tr>\n",
       "    <tr>\n",
       "      <th>6</th>\n",
       "      <td>Playing Role</td>\n",
       "      <td>Top order Batter</td>\n",
       "    </tr>\n",
       "    <tr>\n",
       "      <th>7</th>\n",
       "      <td>Height</td>\n",
       "      <td>5ft 5in</td>\n",
       "    </tr>\n",
       "    <tr>\n",
       "      <th>8</th>\n",
       "      <td>Education</td>\n",
       "      <td>Sharadashram Vidyamandir School</td>\n",
       "    </tr>\n",
       "    <tr>\n",
       "      <th>9</th>\n",
       "      <td>links</td>\n",
       "      <td>Twitter</td>\n",
       "    </tr>\n",
       "    <tr>\n",
       "      <th>10</th>\n",
       "      <td>RELATIONS</td>\n",
       "      <td>Twitter</td>\n",
       "    </tr>\n",
       "    <tr>\n",
       "      <th>11</th>\n",
       "      <td>(son)</td>\n",
       "      <td>AS Tendulkar (son)</td>\n",
       "    </tr>\n",
       "  </tbody>\n",
       "</table>\n",
       "</div>"
      ],
      "text/plain": [
       "        ATTRIBUTE                                       INFORMATION\n",
       "0       Full Name                           Sachin Ramesh Tendulkar\n",
       "1            Born  April 24, 1973, Bombay (now Mumbai), Maharashtra\n",
       "2             Age                                           49y 37d\n",
       "3       Nicknames                            Tendlya, Little Master\n",
       "4   Batting Style                                    Right hand Bat\n",
       "5   Bowling Style               Right arm Offbreak, Legbreak Googly\n",
       "6    Playing Role                                  Top order Batter\n",
       "7          Height                                           5ft 5in\n",
       "8       Education                   Sharadashram Vidyamandir School\n",
       "9           links                                           Twitter\n",
       "10      RELATIONS                                           Twitter\n",
       "11          (son)                                AS Tendulkar (son)"
      ]
     },
     "execution_count": 9,
     "metadata": {},
     "output_type": "execute_result"
    }
   ],
   "source": [
    "data = pd.DataFrame()\n",
    "data['ATTRIBUTE'] = mat1\n",
    "data['INFORMATION'] = mat2\n",
    "data"
   ]
  },
  {
   "cell_type": "code",
   "execution_count": 10,
   "id": "b7663f8b",
   "metadata": {},
   "outputs": [],
   "source": [
    "data.to_csv('Sachin.csv', index = False)"
   ]
  }
 ],
 "metadata": {
  "kernelspec": {
   "display_name": "Python 3 (ipykernel)",
   "language": "python",
   "name": "python3"
  },
  "language_info": {
   "codemirror_mode": {
    "name": "ipython",
    "version": 3
   },
   "file_extension": ".py",
   "mimetype": "text/x-python",
   "name": "python",
   "nbconvert_exporter": "python",
   "pygments_lexer": "ipython3",
   "version": "3.10.4"
  }
 },
 "nbformat": 4,
 "nbformat_minor": 5
}
